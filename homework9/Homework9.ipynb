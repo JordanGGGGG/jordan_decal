{
 "cells": [
  {
   "cell_type": "code",
   "execution_count": 361,
   "id": "8bfd8797-d8af-4fc3-8081-01d94eb990c9",
   "metadata": {},
   "outputs": [],
   "source": [
    "import scipy.optimize as fit\n",
    "import pandas as pd\n",
    "import numpy as np\n",
    "import matplotlib.pyplot as plt"
   ]
  },
  {
   "cell_type": "markdown",
   "id": "3805bc35-073c-4dc6-93cb-b0c71998ffa0",
   "metadata": {},
   "source": [
    "1. Curve Fitting Guided Problem"
   ]
  },
  {
   "cell_type": "markdown",
   "id": "d68ea868-2e13-44db-852c-c85d200e7470",
   "metadata": {},
   "source": [
    "1.1"
   ]
  },
  {
   "cell_type": "code",
   "execution_count": 364,
   "id": "538155eb-1a0f-45aa-8bde-cf5b406a8b88",
   "metadata": {},
   "outputs": [],
   "source": [
    "df = pd.read_csv('GlobalLandTemperaturesByState.csv')"
   ]
  },
  {
   "cell_type": "code",
   "execution_count": 365,
   "id": "6571ec89-2d47-4254-ad78-fbb5860b5a42",
   "metadata": {},
   "outputs": [
    {
     "data": {
      "text/html": [
       "<div>\n",
       "<style scoped>\n",
       "    .dataframe tbody tr th:only-of-type {\n",
       "        vertical-align: middle;\n",
       "    }\n",
       "\n",
       "    .dataframe tbody tr th {\n",
       "        vertical-align: top;\n",
       "    }\n",
       "\n",
       "    .dataframe thead th {\n",
       "        text-align: right;\n",
       "    }\n",
       "</style>\n",
       "<table border=\"1\" class=\"dataframe\">\n",
       "  <thead>\n",
       "    <tr style=\"text-align: right;\">\n",
       "      <th></th>\n",
       "      <th>dt</th>\n",
       "      <th>AverageTemperature</th>\n",
       "      <th>AverageTemperatureUncertainty</th>\n",
       "      <th>State</th>\n",
       "      <th>Country</th>\n",
       "    </tr>\n",
       "  </thead>\n",
       "  <tbody>\n",
       "    <tr>\n",
       "      <th>0</th>\n",
       "      <td>1855-05-01</td>\n",
       "      <td>25.544</td>\n",
       "      <td>1.171</td>\n",
       "      <td>Acre</td>\n",
       "      <td>Brazil</td>\n",
       "    </tr>\n",
       "    <tr>\n",
       "      <th>1</th>\n",
       "      <td>1855-06-01</td>\n",
       "      <td>24.228</td>\n",
       "      <td>1.103</td>\n",
       "      <td>Acre</td>\n",
       "      <td>Brazil</td>\n",
       "    </tr>\n",
       "    <tr>\n",
       "      <th>2</th>\n",
       "      <td>1855-07-01</td>\n",
       "      <td>24.371</td>\n",
       "      <td>1.044</td>\n",
       "      <td>Acre</td>\n",
       "      <td>Brazil</td>\n",
       "    </tr>\n",
       "    <tr>\n",
       "      <th>3</th>\n",
       "      <td>1855-08-01</td>\n",
       "      <td>25.427</td>\n",
       "      <td>1.073</td>\n",
       "      <td>Acre</td>\n",
       "      <td>Brazil</td>\n",
       "    </tr>\n",
       "    <tr>\n",
       "      <th>4</th>\n",
       "      <td>1855-09-01</td>\n",
       "      <td>25.675</td>\n",
       "      <td>1.014</td>\n",
       "      <td>Acre</td>\n",
       "      <td>Brazil</td>\n",
       "    </tr>\n",
       "    <tr>\n",
       "      <th>...</th>\n",
       "      <td>...</td>\n",
       "      <td>...</td>\n",
       "      <td>...</td>\n",
       "      <td>...</td>\n",
       "      <td>...</td>\n",
       "    </tr>\n",
       "    <tr>\n",
       "      <th>645670</th>\n",
       "      <td>2013-05-01</td>\n",
       "      <td>21.634</td>\n",
       "      <td>0.578</td>\n",
       "      <td>Zhejiang</td>\n",
       "      <td>China</td>\n",
       "    </tr>\n",
       "    <tr>\n",
       "      <th>645671</th>\n",
       "      <td>2013-06-01</td>\n",
       "      <td>24.679</td>\n",
       "      <td>0.596</td>\n",
       "      <td>Zhejiang</td>\n",
       "      <td>China</td>\n",
       "    </tr>\n",
       "    <tr>\n",
       "      <th>645672</th>\n",
       "      <td>2013-07-01</td>\n",
       "      <td>29.272</td>\n",
       "      <td>1.340</td>\n",
       "      <td>Zhejiang</td>\n",
       "      <td>China</td>\n",
       "    </tr>\n",
       "    <tr>\n",
       "      <th>645673</th>\n",
       "      <td>2013-08-01</td>\n",
       "      <td>29.202</td>\n",
       "      <td>0.869</td>\n",
       "      <td>Zhejiang</td>\n",
       "      <td>China</td>\n",
       "    </tr>\n",
       "    <tr>\n",
       "      <th>645674</th>\n",
       "      <td>2013-09-01</td>\n",
       "      <td>NaN</td>\n",
       "      <td>NaN</td>\n",
       "      <td>Zhejiang</td>\n",
       "      <td>China</td>\n",
       "    </tr>\n",
       "  </tbody>\n",
       "</table>\n",
       "<p>645675 rows × 5 columns</p>\n",
       "</div>"
      ],
      "text/plain": [
       "                dt  AverageTemperature  AverageTemperatureUncertainty  \\\n",
       "0       1855-05-01              25.544                          1.171   \n",
       "1       1855-06-01              24.228                          1.103   \n",
       "2       1855-07-01              24.371                          1.044   \n",
       "3       1855-08-01              25.427                          1.073   \n",
       "4       1855-09-01              25.675                          1.014   \n",
       "...            ...                 ...                            ...   \n",
       "645670  2013-05-01              21.634                          0.578   \n",
       "645671  2013-06-01              24.679                          0.596   \n",
       "645672  2013-07-01              29.272                          1.340   \n",
       "645673  2013-08-01              29.202                          0.869   \n",
       "645674  2013-09-01                 NaN                            NaN   \n",
       "\n",
       "           State Country  \n",
       "0           Acre  Brazil  \n",
       "1           Acre  Brazil  \n",
       "2           Acre  Brazil  \n",
       "3           Acre  Brazil  \n",
       "4           Acre  Brazil  \n",
       "...          ...     ...  \n",
       "645670  Zhejiang   China  \n",
       "645671  Zhejiang   China  \n",
       "645672  Zhejiang   China  \n",
       "645673  Zhejiang   China  \n",
       "645674  Zhejiang   China  \n",
       "\n",
       "[645675 rows x 5 columns]"
      ]
     },
     "execution_count": 365,
     "metadata": {},
     "output_type": "execute_result"
    }
   ],
   "source": [
    "df\n"
   ]
  },
  {
   "cell_type": "code",
   "execution_count": 366,
   "id": "a7d44a1e-2266-4adf-abbb-6a99aafec76d",
   "metadata": {},
   "outputs": [],
   "source": [
    "df1 = df.iloc[ :, [0, 1, 3]]"
   ]
  },
  {
   "cell_type": "code",
   "execution_count": 367,
   "id": "29989156-8e19-4540-9aac-eebe903b9ba3",
   "metadata": {},
   "outputs": [
    {
     "data": {
      "text/html": [
       "<div>\n",
       "<style scoped>\n",
       "    .dataframe tbody tr th:only-of-type {\n",
       "        vertical-align: middle;\n",
       "    }\n",
       "\n",
       "    .dataframe tbody tr th {\n",
       "        vertical-align: top;\n",
       "    }\n",
       "\n",
       "    .dataframe thead th {\n",
       "        text-align: right;\n",
       "    }\n",
       "</style>\n",
       "<table border=\"1\" class=\"dataframe\">\n",
       "  <thead>\n",
       "    <tr style=\"text-align: right;\">\n",
       "      <th></th>\n",
       "      <th>dt</th>\n",
       "      <th>AverageTemperature</th>\n",
       "      <th>State</th>\n",
       "    </tr>\n",
       "  </thead>\n",
       "  <tbody>\n",
       "    <tr>\n",
       "      <th>0</th>\n",
       "      <td>1855-05-01</td>\n",
       "      <td>25.544</td>\n",
       "      <td>Acre</td>\n",
       "    </tr>\n",
       "    <tr>\n",
       "      <th>1</th>\n",
       "      <td>1855-06-01</td>\n",
       "      <td>24.228</td>\n",
       "      <td>Acre</td>\n",
       "    </tr>\n",
       "    <tr>\n",
       "      <th>2</th>\n",
       "      <td>1855-07-01</td>\n",
       "      <td>24.371</td>\n",
       "      <td>Acre</td>\n",
       "    </tr>\n",
       "    <tr>\n",
       "      <th>3</th>\n",
       "      <td>1855-08-01</td>\n",
       "      <td>25.427</td>\n",
       "      <td>Acre</td>\n",
       "    </tr>\n",
       "    <tr>\n",
       "      <th>4</th>\n",
       "      <td>1855-09-01</td>\n",
       "      <td>25.675</td>\n",
       "      <td>Acre</td>\n",
       "    </tr>\n",
       "    <tr>\n",
       "      <th>...</th>\n",
       "      <td>...</td>\n",
       "      <td>...</td>\n",
       "      <td>...</td>\n",
       "    </tr>\n",
       "    <tr>\n",
       "      <th>645670</th>\n",
       "      <td>2013-05-01</td>\n",
       "      <td>21.634</td>\n",
       "      <td>Zhejiang</td>\n",
       "    </tr>\n",
       "    <tr>\n",
       "      <th>645671</th>\n",
       "      <td>2013-06-01</td>\n",
       "      <td>24.679</td>\n",
       "      <td>Zhejiang</td>\n",
       "    </tr>\n",
       "    <tr>\n",
       "      <th>645672</th>\n",
       "      <td>2013-07-01</td>\n",
       "      <td>29.272</td>\n",
       "      <td>Zhejiang</td>\n",
       "    </tr>\n",
       "    <tr>\n",
       "      <th>645673</th>\n",
       "      <td>2013-08-01</td>\n",
       "      <td>29.202</td>\n",
       "      <td>Zhejiang</td>\n",
       "    </tr>\n",
       "    <tr>\n",
       "      <th>645674</th>\n",
       "      <td>2013-09-01</td>\n",
       "      <td>NaN</td>\n",
       "      <td>Zhejiang</td>\n",
       "    </tr>\n",
       "  </tbody>\n",
       "</table>\n",
       "<p>645675 rows × 3 columns</p>\n",
       "</div>"
      ],
      "text/plain": [
       "                dt  AverageTemperature     State\n",
       "0       1855-05-01              25.544      Acre\n",
       "1       1855-06-01              24.228      Acre\n",
       "2       1855-07-01              24.371      Acre\n",
       "3       1855-08-01              25.427      Acre\n",
       "4       1855-09-01              25.675      Acre\n",
       "...            ...                 ...       ...\n",
       "645670  2013-05-01              21.634  Zhejiang\n",
       "645671  2013-06-01              24.679  Zhejiang\n",
       "645672  2013-07-01              29.272  Zhejiang\n",
       "645673  2013-08-01              29.202  Zhejiang\n",
       "645674  2013-09-01                 NaN  Zhejiang\n",
       "\n",
       "[645675 rows x 3 columns]"
      ]
     },
     "execution_count": 367,
     "metadata": {},
     "output_type": "execute_result"
    }
   ],
   "source": [
    "df1"
   ]
  },
  {
   "cell_type": "code",
   "execution_count": 368,
   "id": "d3405522-fe2f-451e-b63b-d49deedd1833",
   "metadata": {},
   "outputs": [],
   "source": [
    "sorted_df1 = df1.sort_values(by = 'dt')"
   ]
  },
  {
   "cell_type": "code",
   "execution_count": 369,
   "id": "4ea4c732-0b8a-4e8c-997f-b2eac077d91e",
   "metadata": {},
   "outputs": [
    {
     "data": {
      "text/html": [
       "<div>\n",
       "<style scoped>\n",
       "    .dataframe tbody tr th:only-of-type {\n",
       "        vertical-align: middle;\n",
       "    }\n",
       "\n",
       "    .dataframe tbody tr th {\n",
       "        vertical-align: top;\n",
       "    }\n",
       "\n",
       "    .dataframe thead th {\n",
       "        text-align: right;\n",
       "    }\n",
       "</style>\n",
       "<table border=\"1\" class=\"dataframe\">\n",
       "  <thead>\n",
       "    <tr style=\"text-align: right;\">\n",
       "      <th></th>\n",
       "      <th>dt</th>\n",
       "      <th>AverageTemperature</th>\n",
       "      <th>State</th>\n",
       "    </tr>\n",
       "  </thead>\n",
       "  <tbody>\n",
       "    <tr>\n",
       "      <th>398686</th>\n",
       "      <td>1743-11-01</td>\n",
       "      <td>1.909</td>\n",
       "      <td>Nova Scotia</td>\n",
       "    </tr>\n",
       "    <tr>\n",
       "      <th>312139</th>\n",
       "      <td>1743-11-01</td>\n",
       "      <td>0.753</td>\n",
       "      <td>Michigan</td>\n",
       "    </tr>\n",
       "    <tr>\n",
       "      <th>447214</th>\n",
       "      <td>1743-11-01</td>\n",
       "      <td>0.665</td>\n",
       "      <td>Prince Edward Island</td>\n",
       "    </tr>\n",
       "    <tr>\n",
       "      <th>450453</th>\n",
       "      <td>1743-11-01</td>\n",
       "      <td>-0.526</td>\n",
       "      <td>Pskov</td>\n",
       "    </tr>\n",
       "    <tr>\n",
       "      <th>301925</th>\n",
       "      <td>1743-11-01</td>\n",
       "      <td>1.891</td>\n",
       "      <td>Massachusetts</td>\n",
       "    </tr>\n",
       "    <tr>\n",
       "      <th>...</th>\n",
       "      <td>...</td>\n",
       "      <td>...</td>\n",
       "      <td>...</td>\n",
       "    </tr>\n",
       "    <tr>\n",
       "      <th>552051</th>\n",
       "      <td>2013-09-01</td>\n",
       "      <td>26.408</td>\n",
       "      <td>Texas</td>\n",
       "    </tr>\n",
       "    <tr>\n",
       "      <th>594124</th>\n",
       "      <td>2013-09-01</td>\n",
       "      <td>NaN</td>\n",
       "      <td>Victoria</td>\n",
       "    </tr>\n",
       "    <tr>\n",
       "      <th>567074</th>\n",
       "      <td>2013-09-01</td>\n",
       "      <td>NaN</td>\n",
       "      <td>Tuva</td>\n",
       "    </tr>\n",
       "    <tr>\n",
       "      <th>261547</th>\n",
       "      <td>2013-09-01</td>\n",
       "      <td>NaN</td>\n",
       "      <td>Krasnoyarsk</td>\n",
       "    </tr>\n",
       "    <tr>\n",
       "      <th>645674</th>\n",
       "      <td>2013-09-01</td>\n",
       "      <td>NaN</td>\n",
       "      <td>Zhejiang</td>\n",
       "    </tr>\n",
       "  </tbody>\n",
       "</table>\n",
       "<p>645675 rows × 3 columns</p>\n",
       "</div>"
      ],
      "text/plain": [
       "                dt  AverageTemperature                 State\n",
       "398686  1743-11-01               1.909           Nova Scotia\n",
       "312139  1743-11-01               0.753              Michigan\n",
       "447214  1743-11-01               0.665  Prince Edward Island\n",
       "450453  1743-11-01              -0.526                 Pskov\n",
       "301925  1743-11-01               1.891         Massachusetts\n",
       "...            ...                 ...                   ...\n",
       "552051  2013-09-01              26.408                 Texas\n",
       "594124  2013-09-01                 NaN              Victoria\n",
       "567074  2013-09-01                 NaN                  Tuva\n",
       "261547  2013-09-01                 NaN           Krasnoyarsk\n",
       "645674  2013-09-01                 NaN              Zhejiang\n",
       "\n",
       "[645675 rows x 3 columns]"
      ]
     },
     "execution_count": 369,
     "metadata": {},
     "output_type": "execute_result"
    }
   ],
   "source": [
    "sorted_df1"
   ]
  },
  {
   "cell_type": "code",
   "execution_count": 370,
   "id": "49646595-2bc8-4f6a-877a-8da25e8b52cd",
   "metadata": {},
   "outputs": [
    {
     "data": {
      "text/plain": [
       "dt                    2001-01-01\n",
       "AverageTemperature        11.138\n",
       "State                     Fujian\n",
       "Name: 128950, dtype: object"
      ]
     },
     "execution_count": 370,
     "metadata": {},
     "output_type": "execute_result"
    }
   ],
   "source": [
    "sorted_df1.iloc[608802] #first data point after year 2000"
   ]
  },
  {
   "cell_type": "code",
   "execution_count": 371,
   "id": "3944e198-14d6-493f-86d1-e6724560aea4",
   "metadata": {},
   "outputs": [],
   "source": [
    "data_after_2000 = sorted_df1.iloc[608802:645675]"
   ]
  },
  {
   "cell_type": "code",
   "execution_count": 372,
   "id": "5f617635-e394-44a2-89d6-6e07064cf918",
   "metadata": {},
   "outputs": [
    {
     "data": {
      "text/html": [
       "<div>\n",
       "<style scoped>\n",
       "    .dataframe tbody tr th:only-of-type {\n",
       "        vertical-align: middle;\n",
       "    }\n",
       "\n",
       "    .dataframe tbody tr th {\n",
       "        vertical-align: top;\n",
       "    }\n",
       "\n",
       "    .dataframe thead th {\n",
       "        text-align: right;\n",
       "    }\n",
       "</style>\n",
       "<table border=\"1\" class=\"dataframe\">\n",
       "  <thead>\n",
       "    <tr style=\"text-align: right;\">\n",
       "      <th></th>\n",
       "      <th>dt</th>\n",
       "      <th>AverageTemperature</th>\n",
       "      <th>State</th>\n",
       "    </tr>\n",
       "  </thead>\n",
       "  <tbody>\n",
       "    <tr>\n",
       "      <th>128950</th>\n",
       "      <td>2001-01-01</td>\n",
       "      <td>11.138</td>\n",
       "      <td>Fujian</td>\n",
       "    </tr>\n",
       "    <tr>\n",
       "      <th>501924</th>\n",
       "      <td>2001-01-01</td>\n",
       "      <td>26.953</td>\n",
       "      <td>Sergipe</td>\n",
       "    </tr>\n",
       "    <tr>\n",
       "      <th>195267</th>\n",
       "      <td>2001-01-01</td>\n",
       "      <td>2.836</td>\n",
       "      <td>Jiangsu</td>\n",
       "    </tr>\n",
       "    <tr>\n",
       "      <th>390884</th>\n",
       "      <td>2001-01-01</td>\n",
       "      <td>-8.209</td>\n",
       "      <td>North Dakota</td>\n",
       "    </tr>\n",
       "    <tr>\n",
       "      <th>513101</th>\n",
       "      <td>2001-01-01</td>\n",
       "      <td>-1.029</td>\n",
       "      <td>Sichuan</td>\n",
       "    </tr>\n",
       "    <tr>\n",
       "      <th>...</th>\n",
       "      <td>...</td>\n",
       "      <td>...</td>\n",
       "      <td>...</td>\n",
       "    </tr>\n",
       "    <tr>\n",
       "      <th>552051</th>\n",
       "      <td>2013-09-01</td>\n",
       "      <td>26.408</td>\n",
       "      <td>Texas</td>\n",
       "    </tr>\n",
       "    <tr>\n",
       "      <th>594124</th>\n",
       "      <td>2013-09-01</td>\n",
       "      <td>NaN</td>\n",
       "      <td>Victoria</td>\n",
       "    </tr>\n",
       "    <tr>\n",
       "      <th>567074</th>\n",
       "      <td>2013-09-01</td>\n",
       "      <td>NaN</td>\n",
       "      <td>Tuva</td>\n",
       "    </tr>\n",
       "    <tr>\n",
       "      <th>261547</th>\n",
       "      <td>2013-09-01</td>\n",
       "      <td>NaN</td>\n",
       "      <td>Krasnoyarsk</td>\n",
       "    </tr>\n",
       "    <tr>\n",
       "      <th>645674</th>\n",
       "      <td>2013-09-01</td>\n",
       "      <td>NaN</td>\n",
       "      <td>Zhejiang</td>\n",
       "    </tr>\n",
       "  </tbody>\n",
       "</table>\n",
       "<p>36873 rows × 3 columns</p>\n",
       "</div>"
      ],
      "text/plain": [
       "                dt  AverageTemperature         State\n",
       "128950  2001-01-01              11.138        Fujian\n",
       "501924  2001-01-01              26.953       Sergipe\n",
       "195267  2001-01-01               2.836       Jiangsu\n",
       "390884  2001-01-01              -8.209  North Dakota\n",
       "513101  2001-01-01              -1.029       Sichuan\n",
       "...            ...                 ...           ...\n",
       "552051  2013-09-01              26.408         Texas\n",
       "594124  2013-09-01                 NaN      Victoria\n",
       "567074  2013-09-01                 NaN          Tuva\n",
       "261547  2013-09-01                 NaN   Krasnoyarsk\n",
       "645674  2013-09-01                 NaN      Zhejiang\n",
       "\n",
       "[36873 rows x 3 columns]"
      ]
     },
     "execution_count": 372,
     "metadata": {},
     "output_type": "execute_result"
    }
   ],
   "source": [
    "data_after_2000"
   ]
  },
  {
   "cell_type": "code",
   "execution_count": 373,
   "id": "682773de-54c9-44fa-a2f6-fadc751b1ce6",
   "metadata": {},
   "outputs": [],
   "source": [
    "sorted_data_after_2000 = data_after_2000.sort_values(by = 'State')"
   ]
  },
  {
   "cell_type": "code",
   "execution_count": 374,
   "id": "3ad15eb4-fef6-498a-bc85-103e34ce1a54",
   "metadata": {},
   "outputs": [
    {
     "data": {
      "text/html": [
       "<div>\n",
       "<style scoped>\n",
       "    .dataframe tbody tr th:only-of-type {\n",
       "        vertical-align: middle;\n",
       "    }\n",
       "\n",
       "    .dataframe tbody tr th {\n",
       "        vertical-align: top;\n",
       "    }\n",
       "\n",
       "    .dataframe thead th {\n",
       "        text-align: right;\n",
       "    }\n",
       "</style>\n",
       "<table border=\"1\" class=\"dataframe\">\n",
       "  <thead>\n",
       "    <tr style=\"text-align: right;\">\n",
       "      <th></th>\n",
       "      <th>dt</th>\n",
       "      <th>AverageTemperature</th>\n",
       "      <th>State</th>\n",
       "    </tr>\n",
       "  </thead>\n",
       "  <tbody>\n",
       "    <tr>\n",
       "      <th>1796</th>\n",
       "      <td>2005-01-01</td>\n",
       "      <td>27.134</td>\n",
       "      <td>Acre</td>\n",
       "    </tr>\n",
       "    <tr>\n",
       "      <th>1835</th>\n",
       "      <td>2008-04-01</td>\n",
       "      <td>25.721</td>\n",
       "      <td>Acre</td>\n",
       "    </tr>\n",
       "    <tr>\n",
       "      <th>1802</th>\n",
       "      <td>2005-07-01</td>\n",
       "      <td>25.159</td>\n",
       "      <td>Acre</td>\n",
       "    </tr>\n",
       "    <tr>\n",
       "      <th>1887</th>\n",
       "      <td>2012-08-01</td>\n",
       "      <td>26.551</td>\n",
       "      <td>Acre</td>\n",
       "    </tr>\n",
       "    <tr>\n",
       "      <th>1751</th>\n",
       "      <td>2001-04-01</td>\n",
       "      <td>26.366</td>\n",
       "      <td>Acre</td>\n",
       "    </tr>\n",
       "    <tr>\n",
       "      <th>...</th>\n",
       "      <td>...</td>\n",
       "      <td>...</td>\n",
       "      <td>...</td>\n",
       "    </tr>\n",
       "    <tr>\n",
       "      <th>645645</th>\n",
       "      <td>2011-04-01</td>\n",
       "      <td>16.553</td>\n",
       "      <td>Zhejiang</td>\n",
       "    </tr>\n",
       "    <tr>\n",
       "      <th>645595</th>\n",
       "      <td>2007-02-01</td>\n",
       "      <td>10.586</td>\n",
       "      <td>Zhejiang</td>\n",
       "    </tr>\n",
       "    <tr>\n",
       "      <th>645594</th>\n",
       "      <td>2007-01-01</td>\n",
       "      <td>5.846</td>\n",
       "      <td>Zhejiang</td>\n",
       "    </tr>\n",
       "    <tr>\n",
       "      <th>645644</th>\n",
       "      <td>2011-03-01</td>\n",
       "      <td>9.895</td>\n",
       "      <td>Zhejiang</td>\n",
       "    </tr>\n",
       "    <tr>\n",
       "      <th>645674</th>\n",
       "      <td>2013-09-01</td>\n",
       "      <td>NaN</td>\n",
       "      <td>Zhejiang</td>\n",
       "    </tr>\n",
       "  </tbody>\n",
       "</table>\n",
       "<p>36873 rows × 3 columns</p>\n",
       "</div>"
      ],
      "text/plain": [
       "                dt  AverageTemperature     State\n",
       "1796    2005-01-01              27.134      Acre\n",
       "1835    2008-04-01              25.721      Acre\n",
       "1802    2005-07-01              25.159      Acre\n",
       "1887    2012-08-01              26.551      Acre\n",
       "1751    2001-04-01              26.366      Acre\n",
       "...            ...                 ...       ...\n",
       "645645  2011-04-01              16.553  Zhejiang\n",
       "645595  2007-02-01              10.586  Zhejiang\n",
       "645594  2007-01-01               5.846  Zhejiang\n",
       "645644  2011-03-01               9.895  Zhejiang\n",
       "645674  2013-09-01                 NaN  Zhejiang\n",
       "\n",
       "[36873 rows x 3 columns]"
      ]
     },
     "execution_count": 374,
     "metadata": {},
     "output_type": "execute_result"
    }
   ],
   "source": [
    "sorted_data_after_2000"
   ]
  },
  {
   "cell_type": "code",
   "execution_count": 375,
   "id": "d50e7abf-16c2-4f88-b32f-62b9c384c6e6",
   "metadata": {},
   "outputs": [],
   "source": [
    "a = sorted_data_after_2000 #for ease"
   ]
  },
  {
   "cell_type": "code",
   "execution_count": 376,
   "id": "6ccfe142-1037-4d8f-93c7-6aae80333949",
   "metadata": {},
   "outputs": [],
   "source": [
    "Three_states = a.loc[a['State'].isin( ['Wyoming', 'Nebraska', 'South Dakota'])]"
   ]
  },
  {
   "cell_type": "code",
   "execution_count": 377,
   "id": "6593f8d6-906c-423f-a54d-face31445425",
   "metadata": {},
   "outputs": [
    {
     "data": {
      "text/html": [
       "<div>\n",
       "<style scoped>\n",
       "    .dataframe tbody tr th:only-of-type {\n",
       "        vertical-align: middle;\n",
       "    }\n",
       "\n",
       "    .dataframe tbody tr th {\n",
       "        vertical-align: top;\n",
       "    }\n",
       "\n",
       "    .dataframe thead th {\n",
       "        text-align: right;\n",
       "    }\n",
       "</style>\n",
       "<table border=\"1\" class=\"dataframe\">\n",
       "  <thead>\n",
       "    <tr style=\"text-align: right;\">\n",
       "      <th></th>\n",
       "      <th>dt</th>\n",
       "      <th>AverageTemperature</th>\n",
       "      <th>State</th>\n",
       "    </tr>\n",
       "  </thead>\n",
       "  <tbody>\n",
       "    <tr>\n",
       "      <th>350895</th>\n",
       "      <td>2011-03-01</td>\n",
       "      <td>2.863</td>\n",
       "      <td>Nebraska</td>\n",
       "    </tr>\n",
       "    <tr>\n",
       "      <th>350775</th>\n",
       "      <td>2001-03-01</td>\n",
       "      <td>2.077</td>\n",
       "      <td>Nebraska</td>\n",
       "    </tr>\n",
       "    <tr>\n",
       "      <th>350866</th>\n",
       "      <td>2008-10-01</td>\n",
       "      <td>10.295</td>\n",
       "      <td>Nebraska</td>\n",
       "    </tr>\n",
       "    <tr>\n",
       "      <th>350799</th>\n",
       "      <td>2003-03-01</td>\n",
       "      <td>3.851</td>\n",
       "      <td>Nebraska</td>\n",
       "    </tr>\n",
       "    <tr>\n",
       "      <th>350918</th>\n",
       "      <td>2013-02-01</td>\n",
       "      <td>-1.816</td>\n",
       "      <td>Nebraska</td>\n",
       "    </tr>\n",
       "    <tr>\n",
       "      <th>...</th>\n",
       "      <td>...</td>\n",
       "      <td>...</td>\n",
       "      <td>...</td>\n",
       "    </tr>\n",
       "    <tr>\n",
       "      <th>626307</th>\n",
       "      <td>2002-09-01</td>\n",
       "      <td>13.073</td>\n",
       "      <td>Wyoming</td>\n",
       "    </tr>\n",
       "    <tr>\n",
       "      <th>626332</th>\n",
       "      <td>2004-10-01</td>\n",
       "      <td>6.485</td>\n",
       "      <td>Wyoming</td>\n",
       "    </tr>\n",
       "    <tr>\n",
       "      <th>626421</th>\n",
       "      <td>2012-03-01</td>\n",
       "      <td>4.259</td>\n",
       "      <td>Wyoming</td>\n",
       "    </tr>\n",
       "    <tr>\n",
       "      <th>626309</th>\n",
       "      <td>2002-11-01</td>\n",
       "      <td>-0.981</td>\n",
       "      <td>Wyoming</td>\n",
       "    </tr>\n",
       "    <tr>\n",
       "      <th>626335</th>\n",
       "      <td>2005-01-01</td>\n",
       "      <td>-4.008</td>\n",
       "      <td>Wyoming</td>\n",
       "    </tr>\n",
       "  </tbody>\n",
       "</table>\n",
       "<p>459 rows × 3 columns</p>\n",
       "</div>"
      ],
      "text/plain": [
       "                dt  AverageTemperature     State\n",
       "350895  2011-03-01               2.863  Nebraska\n",
       "350775  2001-03-01               2.077  Nebraska\n",
       "350866  2008-10-01              10.295  Nebraska\n",
       "350799  2003-03-01               3.851  Nebraska\n",
       "350918  2013-02-01              -1.816  Nebraska\n",
       "...            ...                 ...       ...\n",
       "626307  2002-09-01              13.073   Wyoming\n",
       "626332  2004-10-01               6.485   Wyoming\n",
       "626421  2012-03-01               4.259   Wyoming\n",
       "626309  2002-11-01              -0.981   Wyoming\n",
       "626335  2005-01-01              -4.008   Wyoming\n",
       "\n",
       "[459 rows x 3 columns]"
      ]
     },
     "execution_count": 377,
     "metadata": {},
     "output_type": "execute_result"
    }
   ],
   "source": [
    "Three_states"
   ]
  },
  {
   "cell_type": "markdown",
   "id": "8f9998fc-72d1-4c0a-95d1-9e2678eb3471",
   "metadata": {},
   "source": [
    "1.2"
   ]
  },
  {
   "cell_type": "code",
   "execution_count": 379,
   "id": "81badfff-3fe1-4d94-9b51-4b070fe4c747",
   "metadata": {},
   "outputs": [],
   "source": [
    "B = Three_states.groupby(['dt'])['AverageTemperature'].mean().reset_index()"
   ]
  },
  {
   "cell_type": "code",
   "execution_count": 380,
   "id": "0262391a-e291-456e-820b-542ee1166f74",
   "metadata": {},
   "outputs": [
    {
     "data": {
      "text/html": [
       "<div>\n",
       "<style scoped>\n",
       "    .dataframe tbody tr th:only-of-type {\n",
       "        vertical-align: middle;\n",
       "    }\n",
       "\n",
       "    .dataframe tbody tr th {\n",
       "        vertical-align: top;\n",
       "    }\n",
       "\n",
       "    .dataframe thead th {\n",
       "        text-align: right;\n",
       "    }\n",
       "</style>\n",
       "<table border=\"1\" class=\"dataframe\">\n",
       "  <thead>\n",
       "    <tr style=\"text-align: right;\">\n",
       "      <th></th>\n",
       "      <th>dt</th>\n",
       "      <th>AverageTemperature</th>\n",
       "    </tr>\n",
       "  </thead>\n",
       "  <tbody>\n",
       "    <tr>\n",
       "      <th>0</th>\n",
       "      <td>2001-01-01</td>\n",
       "      <td>-4.480333</td>\n",
       "    </tr>\n",
       "    <tr>\n",
       "      <th>1</th>\n",
       "      <td>2001-02-01</td>\n",
       "      <td>-7.541000</td>\n",
       "    </tr>\n",
       "    <tr>\n",
       "      <th>2</th>\n",
       "      <td>2001-03-01</td>\n",
       "      <td>0.590333</td>\n",
       "    </tr>\n",
       "    <tr>\n",
       "      <th>3</th>\n",
       "      <td>2001-04-01</td>\n",
       "      <td>7.889000</td>\n",
       "    </tr>\n",
       "    <tr>\n",
       "      <th>4</th>\n",
       "      <td>2001-05-01</td>\n",
       "      <td>13.908667</td>\n",
       "    </tr>\n",
       "    <tr>\n",
       "      <th>...</th>\n",
       "      <td>...</td>\n",
       "      <td>...</td>\n",
       "    </tr>\n",
       "    <tr>\n",
       "      <th>148</th>\n",
       "      <td>2013-05-01</td>\n",
       "      <td>13.196000</td>\n",
       "    </tr>\n",
       "    <tr>\n",
       "      <th>149</th>\n",
       "      <td>2013-06-01</td>\n",
       "      <td>18.783667</td>\n",
       "    </tr>\n",
       "    <tr>\n",
       "      <th>150</th>\n",
       "      <td>2013-07-01</td>\n",
       "      <td>22.110333</td>\n",
       "    </tr>\n",
       "    <tr>\n",
       "      <th>151</th>\n",
       "      <td>2013-08-01</td>\n",
       "      <td>21.890000</td>\n",
       "    </tr>\n",
       "    <tr>\n",
       "      <th>152</th>\n",
       "      <td>2013-09-01</td>\n",
       "      <td>18.953000</td>\n",
       "    </tr>\n",
       "  </tbody>\n",
       "</table>\n",
       "<p>153 rows × 2 columns</p>\n",
       "</div>"
      ],
      "text/plain": [
       "             dt  AverageTemperature\n",
       "0    2001-01-01           -4.480333\n",
       "1    2001-02-01           -7.541000\n",
       "2    2001-03-01            0.590333\n",
       "3    2001-04-01            7.889000\n",
       "4    2001-05-01           13.908667\n",
       "..          ...                 ...\n",
       "148  2013-05-01           13.196000\n",
       "149  2013-06-01           18.783667\n",
       "150  2013-07-01           22.110333\n",
       "151  2013-08-01           21.890000\n",
       "152  2013-09-01           18.953000\n",
       "\n",
       "[153 rows x 2 columns]"
      ]
     },
     "execution_count": 380,
     "metadata": {},
     "output_type": "execute_result"
    }
   ],
   "source": [
    "B #Shortened name so I can use it easier later"
   ]
  },
  {
   "cell_type": "markdown",
   "id": "b686df5b-f6c8-4b38-825d-6c481b0e880b",
   "metadata": {},
   "source": [
    "1.3"
   ]
  },
  {
   "cell_type": "code",
   "execution_count": 382,
   "id": "6adabc71-5a58-437c-99a9-5a9e1e9115f8",
   "metadata": {},
   "outputs": [
    {
     "data": {
      "text/plain": [
       "[<matplotlib.lines.Line2D at 0x19af70f6120>]"
      ]
     },
     "execution_count": 382,
     "metadata": {},
     "output_type": "execute_result"
    },
    {
     "data": {
      "image/png": "[encoded data removed]",
      "text/plain": [
       "<Figure size 640x480 with 1 Axes>"
      ]
     },
     "metadata": {},
     "output_type": "display_data"
    }
   ],
   "source": [
    "plt.figure()\n",
    "x = B.loc[:, 'dt']\n",
    "y = B.loc[:, 'AverageTemperature']\n",
    "plt.title('Average Temperature in Three U.S. States between 2001 and 2013')\n",
    "plt.xlabel('Date')\n",
    "plt.ylabel('Average Temperature (°F)')\n",
    "plt.plot(x, y)"
   ]
  },
  {
   "cell_type": "markdown",
   "id": "50a5d99b-ecb7-48bc-a8e5-c855a381b5ad",
   "metadata": {},
   "source": [
    "1.4"
   ]
  },
  {
   "cell_type": "markdown",
   "id": "c0129501-8f8d-4929-a3a5-7a59aa45e144",
   "metadata": {},
   "source": [
    "I want to convert the dates to numbers where the smallest number corresponds to 2001-01-01 and the largest corresponds to 2013-09-01.\n",
    "To do this, I could just make the date into an integer i.e. 2001-01-01 --> 20010101 since this will be smaller than 20130901 and all dates in between."
   ]
  },
  {
   "cell_type": "code",
   "execution_count": 385,
   "id": "f8e34010-2bad-4bd5-8c59-6e5e0983530c",
   "metadata": {},
   "outputs": [
    {
     "data": {
      "text/plain": [
       "dtype('O')"
      ]
     },
     "execution_count": 385,
     "metadata": {},
     "output_type": "execute_result"
    }
   ],
   "source": [
    "B['dt'].dtype"
   ]
  },
  {
   "cell_type": "code",
   "execution_count": 386,
   "id": "41086e24-99d4-40d3-84ef-07f95a7893f7",
   "metadata": {},
   "outputs": [],
   "source": [
    "C = B['dt'].str.replace('-', '').astype(int)"
   ]
  },
  {
   "cell_type": "code",
   "execution_count": 387,
   "id": "5f3eab4e-e0ed-48e5-b1a1-1a1177cf7cd2",
   "metadata": {},
   "outputs": [
    {
     "data": {
      "text/plain": [
       "0      20010101\n",
       "1      20010201\n",
       "2      20010301\n",
       "3      20010401\n",
       "4      20010501\n",
       "         ...   \n",
       "148    20130501\n",
       "149    20130601\n",
       "150    20130701\n",
       "151    20130801\n",
       "152    20130901\n",
       "Name: dt, Length: 153, dtype: int32"
      ]
     },
     "execution_count": 387,
     "metadata": {},
     "output_type": "execute_result"
    }
   ],
   "source": [
    "C"
   ]
  },
  {
   "cell_type": "markdown",
   "id": "e35e1b98-4cf3-4490-b36c-4b5567ef5684",
   "metadata": {},
   "source": [
    "This worked to change the dates from strings to integers like I wanted but I need to preserve the dataframe. Maybe I can try replacing the colum with this."
   ]
  },
  {
   "cell_type": "code",
   "execution_count": 389,
   "id": "e335e416-a117-437c-909a-dfbc42086e97",
   "metadata": {},
   "outputs": [],
   "source": [
    "New_df = B.copy() #Use a substitute variable so I dont mess with other B uses"
   ]
  },
  {
   "cell_type": "code",
   "execution_count": 390,
   "id": "51fe4ca1-7795-4aa1-837f-9d80a247a551",
   "metadata": {},
   "outputs": [],
   "source": [
    "New_df['dt'] = C"
   ]
  },
  {
   "cell_type": "code",
   "execution_count": 391,
   "id": "7f80c1e1-0eba-4110-92ac-6bcdcfa13518",
   "metadata": {},
   "outputs": [
    {
     "data": {
      "text/html": [
       "<div>\n",
       "<style scoped>\n",
       "    .dataframe tbody tr th:only-of-type {\n",
       "        vertical-align: middle;\n",
       "    }\n",
       "\n",
       "    .dataframe tbody tr th {\n",
       "        vertical-align: top;\n",
       "    }\n",
       "\n",
       "    .dataframe thead th {\n",
       "        text-align: right;\n",
       "    }\n",
       "</style>\n",
       "<table border=\"1\" class=\"dataframe\">\n",
       "  <thead>\n",
       "    <tr style=\"text-align: right;\">\n",
       "      <th></th>\n",
       "      <th>dt</th>\n",
       "      <th>AverageTemperature</th>\n",
       "    </tr>\n",
       "  </thead>\n",
       "  <tbody>\n",
       "    <tr>\n",
       "      <th>0</th>\n",
       "      <td>20010101</td>\n",
       "      <td>-4.480333</td>\n",
       "    </tr>\n",
       "    <tr>\n",
       "      <th>1</th>\n",
       "      <td>20010201</td>\n",
       "      <td>-7.541000</td>\n",
       "    </tr>\n",
       "    <tr>\n",
       "      <th>2</th>\n",
       "      <td>20010301</td>\n",
       "      <td>0.590333</td>\n",
       "    </tr>\n",
       "    <tr>\n",
       "      <th>3</th>\n",
       "      <td>20010401</td>\n",
       "      <td>7.889000</td>\n",
       "    </tr>\n",
       "    <tr>\n",
       "      <th>4</th>\n",
       "      <td>20010501</td>\n",
       "      <td>13.908667</td>\n",
       "    </tr>\n",
       "    <tr>\n",
       "      <th>...</th>\n",
       "      <td>...</td>\n",
       "      <td>...</td>\n",
       "    </tr>\n",
       "    <tr>\n",
       "      <th>148</th>\n",
       "      <td>20130501</td>\n",
       "      <td>13.196000</td>\n",
       "    </tr>\n",
       "    <tr>\n",
       "      <th>149</th>\n",
       "      <td>20130601</td>\n",
       "      <td>18.783667</td>\n",
       "    </tr>\n",
       "    <tr>\n",
       "      <th>150</th>\n",
       "      <td>20130701</td>\n",
       "      <td>22.110333</td>\n",
       "    </tr>\n",
       "    <tr>\n",
       "      <th>151</th>\n",
       "      <td>20130801</td>\n",
       "      <td>21.890000</td>\n",
       "    </tr>\n",
       "    <tr>\n",
       "      <th>152</th>\n",
       "      <td>20130901</td>\n",
       "      <td>18.953000</td>\n",
       "    </tr>\n",
       "  </tbody>\n",
       "</table>\n",
       "<p>153 rows × 2 columns</p>\n",
       "</div>"
      ],
      "text/plain": [
       "           dt  AverageTemperature\n",
       "0    20010101           -4.480333\n",
       "1    20010201           -7.541000\n",
       "2    20010301            0.590333\n",
       "3    20010401            7.889000\n",
       "4    20010501           13.908667\n",
       "..        ...                 ...\n",
       "148  20130501           13.196000\n",
       "149  20130601           18.783667\n",
       "150  20130701           22.110333\n",
       "151  20130801           21.890000\n",
       "152  20130901           18.953000\n",
       "\n",
       "[153 rows x 2 columns]"
      ]
     },
     "execution_count": 391,
     "metadata": {},
     "output_type": "execute_result"
    }
   ],
   "source": [
    "New_df"
   ]
  },
  {
   "cell_type": "code",
   "execution_count": 392,
   "id": "26a56f00-052d-4462-b8a0-3c79b18fd72a",
   "metadata": {},
   "outputs": [
    {
     "data": {
      "text/html": [
       "<div>\n",
       "<style scoped>\n",
       "    .dataframe tbody tr th:only-of-type {\n",
       "        vertical-align: middle;\n",
       "    }\n",
       "\n",
       "    .dataframe tbody tr th {\n",
       "        vertical-align: top;\n",
       "    }\n",
       "\n",
       "    .dataframe thead th {\n",
       "        text-align: right;\n",
       "    }\n",
       "</style>\n",
       "<table border=\"1\" class=\"dataframe\">\n",
       "  <thead>\n",
       "    <tr style=\"text-align: right;\">\n",
       "      <th></th>\n",
       "      <th>dt</th>\n",
       "      <th>AverageTemperature</th>\n",
       "    </tr>\n",
       "  </thead>\n",
       "  <tbody>\n",
       "    <tr>\n",
       "      <th>0</th>\n",
       "      <td>2001-01-01</td>\n",
       "      <td>-4.480333</td>\n",
       "    </tr>\n",
       "    <tr>\n",
       "      <th>1</th>\n",
       "      <td>2001-02-01</td>\n",
       "      <td>-7.541000</td>\n",
       "    </tr>\n",
       "    <tr>\n",
       "      <th>2</th>\n",
       "      <td>2001-03-01</td>\n",
       "      <td>0.590333</td>\n",
       "    </tr>\n",
       "    <tr>\n",
       "      <th>3</th>\n",
       "      <td>2001-04-01</td>\n",
       "      <td>7.889000</td>\n",
       "    </tr>\n",
       "    <tr>\n",
       "      <th>4</th>\n",
       "      <td>2001-05-01</td>\n",
       "      <td>13.908667</td>\n",
       "    </tr>\n",
       "    <tr>\n",
       "      <th>...</th>\n",
       "      <td>...</td>\n",
       "      <td>...</td>\n",
       "    </tr>\n",
       "    <tr>\n",
       "      <th>148</th>\n",
       "      <td>2013-05-01</td>\n",
       "      <td>13.196000</td>\n",
       "    </tr>\n",
       "    <tr>\n",
       "      <th>149</th>\n",
       "      <td>2013-06-01</td>\n",
       "      <td>18.783667</td>\n",
       "    </tr>\n",
       "    <tr>\n",
       "      <th>150</th>\n",
       "      <td>2013-07-01</td>\n",
       "      <td>22.110333</td>\n",
       "    </tr>\n",
       "    <tr>\n",
       "      <th>151</th>\n",
       "      <td>2013-08-01</td>\n",
       "      <td>21.890000</td>\n",
       "    </tr>\n",
       "    <tr>\n",
       "      <th>152</th>\n",
       "      <td>2013-09-01</td>\n",
       "      <td>18.953000</td>\n",
       "    </tr>\n",
       "  </tbody>\n",
       "</table>\n",
       "<p>153 rows × 2 columns</p>\n",
       "</div>"
      ],
      "text/plain": [
       "             dt  AverageTemperature\n",
       "0    2001-01-01           -4.480333\n",
       "1    2001-02-01           -7.541000\n",
       "2    2001-03-01            0.590333\n",
       "3    2001-04-01            7.889000\n",
       "4    2001-05-01           13.908667\n",
       "..          ...                 ...\n",
       "148  2013-05-01           13.196000\n",
       "149  2013-06-01           18.783667\n",
       "150  2013-07-01           22.110333\n",
       "151  2013-08-01           21.890000\n",
       "152  2013-09-01           18.953000\n",
       "\n",
       "[153 rows x 2 columns]"
      ]
     },
     "execution_count": 392,
     "metadata": {},
     "output_type": "execute_result"
    }
   ],
   "source": [
    "B"
   ]
  },
  {
   "cell_type": "markdown",
   "id": "1106d657-effa-4654-8977-109541e5f213",
   "metadata": {},
   "source": [
    "The copy worked and now I have the data frame I desired."
   ]
  },
  {
   "cell_type": "markdown",
   "id": "6d0c9659-8fae-4702-be75-61e02594b9c2",
   "metadata": {},
   "source": [
    "1.5"
   ]
  },
  {
   "cell_type": "markdown",
   "id": "5730bfc5-a998-470b-ad8e-eb2985e9d8ba",
   "metadata": {},
   "source": [
    "The data when plotted looks like a sine wave so I will use that as my model equation."
   ]
  },
  {
   "cell_type": "code",
   "execution_count": 396,
   "id": "1e8068bb-ad26-4877-a95f-b1892e0a3c88",
   "metadata": {},
   "outputs": [],
   "source": [
    "def f(x, A, w, c):\n",
    "    return A*np.sin(w*x + c)"
   ]
  },
  {
   "cell_type": "markdown",
   "id": "0d2b9040-89f1-412c-9d4a-f4e64fdfda02",
   "metadata": {},
   "source": [
    "My sine wave is amplified by about 30 (One peak is at 25 and then the subsequent trough is at -5), its frequency looks like about 6 (tested in desmos), and it is shifted right by about 4 (also tested in desmos)."
   ]
  },
  {
   "cell_type": "code",
   "execution_count": 398,
   "id": "5ead6c1f-30ad-46ad-91ca-0794ca6a2a9c",
   "metadata": {},
   "outputs": [],
   "source": [
    "p0 = [30, 6, 4] "
   ]
  },
  {
   "cell_type": "markdown",
   "id": "3d920408-6347-48ca-8d69-5a7ae4f3c8c1",
   "metadata": {},
   "source": [
    "1.6"
   ]
  },
  {
   "cell_type": "code",
   "execution_count": 400,
   "id": "c74e2a64-4aca-4e14-a2a0-a1ec3cfc925b",
   "metadata": {},
   "outputs": [],
   "source": [
    "params, cov = fit.curve_fit(f, New_df['dt'], New_df['AverageTemperature'], p0)"
   ]
  },
  {
   "cell_type": "code",
   "execution_count": 457,
   "id": "2844aa16-bbb7-436e-9630-a61f8f3dab87",
   "metadata": {},
   "outputs": [
    {
     "data": {
      "text/plain": [
       "array([30.,  6.,  4.])"
      ]
     },
     "execution_count": 457,
     "metadata": {},
     "output_type": "execute_result"
    }
   ],
   "source": [
    "params"
   ]
  },
  {
   "cell_type": "code",
   "execution_count": 401,
   "id": "70f4f82a-28fe-44d8-98d7-4c903301c694",
   "metadata": {},
   "outputs": [],
   "source": [
    "A = params[0]\n",
    "w = params[1]\n",
    "c = params[2]\n",
    "\n",
    "y_est = f(New_df['dt'], A, w, c)"
   ]
  },
  {
   "cell_type": "markdown",
   "id": "a36f7c7e-1497-4134-8123-af91e4774a20",
   "metadata": {},
   "source": [
    "1.7"
   ]
  },
  {
   "cell_type": "code",
   "execution_count": 403,
   "id": "805c2f8b-743a-430b-8eda-71e800685ac5",
   "metadata": {},
   "outputs": [
    {
     "data": {
      "image/png": "[encoded data removed]",
      "text/plain": [
       "<Figure size 640x480 with 1 Axes>"
      ]
     },
     "metadata": {},
     "output_type": "display_data"
    }
   ],
   "source": [
    "plt.figure()\n",
    "plt.plot(New_df['dt'], y_est) #plots our estimated graph\n",
    "plt.scatter(New_df['dt'], New_df['AverageTemperature']) #plots our actual data points\n",
    "plt.show()"
   ]
  },
  {
   "cell_type": "markdown",
   "id": "c7380dd5-bc9f-4dec-8c69-f9c74f2c3ace",
   "metadata": {},
   "source": [
    "1.8"
   ]
  },
  {
   "cell_type": "code",
   "execution_count": 405,
   "id": "2fbc7111-9430-4556-b6a7-8594f30fe16b",
   "metadata": {},
   "outputs": [
    {
     "data": {
      "text/plain": [
       "array([[ 1.21354493e+06,  2.95967634e-03, -3.22755894e+04],\n",
       "       [ 2.95967634e-03,  7.21831090e-12, -7.87164437e-05],\n",
       "       [-3.22755894e+04, -7.87164437e-05,  8.58419819e+02]])"
      ]
     },
     "execution_count": 405,
     "metadata": {},
     "output_type": "execute_result"
    }
   ],
   "source": [
    "cov"
   ]
  },
  {
   "cell_type": "code",
   "execution_count": 406,
   "id": "0de94d25-fd42-4030-a984-048ba91ddd0d",
   "metadata": {},
   "outputs": [],
   "source": [
    "err1 = np.sqrt(cov[0,0])\n",
    "err2 = np.sqrt(cov[1,1])\n",
    "err3 = np.sqrt(cov[2,2])"
   ]
  },
  {
   "cell_type": "code",
   "execution_count": 407,
   "id": "667192a0-ed81-43d6-8bcd-fb097afaaa29",
   "metadata": {},
   "outputs": [
    {
     "data": {
      "text/plain": [
       "1101.6101525020194"
      ]
     },
     "execution_count": 407,
     "metadata": {},
     "output_type": "execute_result"
    }
   ],
   "source": [
    "err1"
   ]
  },
  {
   "cell_type": "code",
   "execution_count": 408,
   "id": "230abfef-b2e3-4760-9434-5da12fa2d177",
   "metadata": {},
   "outputs": [
    {
     "data": {
      "text/plain": [
       "2.686691441854473e-06"
      ]
     },
     "execution_count": 408,
     "metadata": {},
     "output_type": "execute_result"
    }
   ],
   "source": [
    "err2"
   ]
  },
  {
   "cell_type": "code",
   "execution_count": 409,
   "id": "ee3c3ac6-89fc-4393-acc2-da2ddcc68646",
   "metadata": {},
   "outputs": [
    {
     "data": {
      "text/plain": [
       "29.29880235054119"
      ]
     },
     "execution_count": 409,
     "metadata": {},
     "output_type": "execute_result"
    }
   ],
   "source": [
    "err3"
   ]
  },
  {
   "cell_type": "markdown",
   "id": "68b9bb03-5e64-44b3-a1aa-71daefab305a",
   "metadata": {},
   "source": [
    "1.9"
   ]
  },
  {
   "cell_type": "code",
   "execution_count": 411,
   "id": "11056955-14e9-4f48-aedd-5327ab4babe3",
   "metadata": {},
   "outputs": [
    {
     "name": "stdout",
     "output_type": "stream",
     "text": [
      "parameter_1 = 30 ± 1101.6101525020194\n"
     ]
    }
   ],
   "source": [
    "parameter_1 = 30\n",
    "\n",
    "print(f\"parameter_1 = {parameter_1} \\u00B1 {err1}\")\n"
   ]
  },
  {
   "cell_type": "code",
   "execution_count": 412,
   "id": "ccd3faef-fe2c-477b-aa47-2f2bd6cdd44c",
   "metadata": {},
   "outputs": [
    {
     "name": "stdout",
     "output_type": "stream",
     "text": [
      "parameter_2 = 6 ± 2.686691441854473e-06\n"
     ]
    }
   ],
   "source": [
    "parameter_2 = 6\n",
    "\n",
    "print(f\"parameter_2 = {parameter_2} \\u00B1 {err2}\")"
   ]
  },
  {
   "cell_type": "code",
   "execution_count": 413,
   "id": "0d7e270c-292d-45d8-981f-d57fd1ba0a59",
   "metadata": {},
   "outputs": [
    {
     "name": "stdout",
     "output_type": "stream",
     "text": [
      "parameter_3 = 4 ± 2.686691441854473e-06\n"
     ]
    }
   ],
   "source": [
    "parameter_3 = 4\n",
    "\n",
    "print(f\"parameter_3 = {parameter_3} \\u00B1 {err2}\")"
   ]
  },
  {
   "cell_type": "markdown",
   "id": "3aed6cda-1a29-4fc4-bc15-c2cc9d6bda15",
   "metadata": {},
   "source": [
    "1.10"
   ]
  },
  {
   "cell_type": "code",
   "execution_count": 415,
   "id": "fa9ad7b9-fd69-4a86-8ba0-9b4633273abd",
   "metadata": {},
   "outputs": [],
   "source": [
    "from astropy.table import Table\n",
    "DF =Table.read('global_CCl4_MM.dat', format = 'ascii', comment = '#')"
   ]
  },
  {
   "cell_type": "code",
   "execution_count": 416,
   "id": "3748592d-7ca1-4704-8c26-835c1bc25b0c",
   "metadata": {},
   "outputs": [],
   "source": [
    "Df = DF.to_pandas()"
   ]
  },
  {
   "cell_type": "code",
   "execution_count": 417,
   "id": "25ddaba7-3645-4ab2-8d4a-f5da8847427b",
   "metadata": {},
   "outputs": [
    {
     "data": {
      "text/html": [
       "<div>\n",
       "<style scoped>\n",
       "    .dataframe tbody tr th:only-of-type {\n",
       "        vertical-align: middle;\n",
       "    }\n",
       "\n",
       "    .dataframe tbody tr th {\n",
       "        vertical-align: top;\n",
       "    }\n",
       "\n",
       "    .dataframe thead th {\n",
       "        text-align: right;\n",
       "    }\n",
       "</style>\n",
       "<table border=\"1\" class=\"dataframe\">\n",
       "  <thead>\n",
       "    <tr style=\"text-align: right;\">\n",
       "      <th></th>\n",
       "      <th>CCl4ottoyr</th>\n",
       "      <th>CCl4ottomon</th>\n",
       "      <th>CCl4ottoNHm</th>\n",
       "      <th>CCl4ottoNHsd</th>\n",
       "      <th>CCl4ottoSHm</th>\n",
       "      <th>CCl4ottoSHsd</th>\n",
       "      <th>CCl4ottoGLm</th>\n",
       "      <th>CCl4ottoGLsd</th>\n",
       "    </tr>\n",
       "  </thead>\n",
       "  <tbody>\n",
       "    <tr>\n",
       "      <th>0</th>\n",
       "      <td>1996</td>\n",
       "      <td>1</td>\n",
       "      <td>NaN</td>\n",
       "      <td>NaN</td>\n",
       "      <td>NaN</td>\n",
       "      <td>NaN</td>\n",
       "      <td>NaN</td>\n",
       "      <td>NaN</td>\n",
       "    </tr>\n",
       "    <tr>\n",
       "      <th>1</th>\n",
       "      <td>1996</td>\n",
       "      <td>2</td>\n",
       "      <td>NaN</td>\n",
       "      <td>NaN</td>\n",
       "      <td>NaN</td>\n",
       "      <td>NaN</td>\n",
       "      <td>NaN</td>\n",
       "      <td>NaN</td>\n",
       "    </tr>\n",
       "    <tr>\n",
       "      <th>2</th>\n",
       "      <td>1996</td>\n",
       "      <td>3</td>\n",
       "      <td>NaN</td>\n",
       "      <td>NaN</td>\n",
       "      <td>NaN</td>\n",
       "      <td>NaN</td>\n",
       "      <td>NaN</td>\n",
       "      <td>NaN</td>\n",
       "    </tr>\n",
       "    <tr>\n",
       "      <th>3</th>\n",
       "      <td>1996</td>\n",
       "      <td>4</td>\n",
       "      <td>105.318</td>\n",
       "      <td>0.197</td>\n",
       "      <td>102.969</td>\n",
       "      <td>0.238</td>\n",
       "      <td>104.144</td>\n",
       "      <td>0.155</td>\n",
       "    </tr>\n",
       "    <tr>\n",
       "      <th>4</th>\n",
       "      <td>1996</td>\n",
       "      <td>5</td>\n",
       "      <td>105.032</td>\n",
       "      <td>0.193</td>\n",
       "      <td>102.754</td>\n",
       "      <td>0.287</td>\n",
       "      <td>103.893</td>\n",
       "      <td>0.174</td>\n",
       "    </tr>\n",
       "    <tr>\n",
       "      <th>...</th>\n",
       "      <td>...</td>\n",
       "      <td>...</td>\n",
       "      <td>...</td>\n",
       "      <td>...</td>\n",
       "      <td>...</td>\n",
       "      <td>...</td>\n",
       "      <td>...</td>\n",
       "      <td>...</td>\n",
       "    </tr>\n",
       "    <tr>\n",
       "      <th>283</th>\n",
       "      <td>2019</td>\n",
       "      <td>8</td>\n",
       "      <td>NaN</td>\n",
       "      <td>NaN</td>\n",
       "      <td>NaN</td>\n",
       "      <td>NaN</td>\n",
       "      <td>NaN</td>\n",
       "      <td>NaN</td>\n",
       "    </tr>\n",
       "    <tr>\n",
       "      <th>284</th>\n",
       "      <td>2019</td>\n",
       "      <td>9</td>\n",
       "      <td>NaN</td>\n",
       "      <td>NaN</td>\n",
       "      <td>NaN</td>\n",
       "      <td>NaN</td>\n",
       "      <td>NaN</td>\n",
       "      <td>NaN</td>\n",
       "    </tr>\n",
       "    <tr>\n",
       "      <th>285</th>\n",
       "      <td>2019</td>\n",
       "      <td>10</td>\n",
       "      <td>NaN</td>\n",
       "      <td>NaN</td>\n",
       "      <td>NaN</td>\n",
       "      <td>NaN</td>\n",
       "      <td>NaN</td>\n",
       "      <td>NaN</td>\n",
       "    </tr>\n",
       "    <tr>\n",
       "      <th>286</th>\n",
       "      <td>2019</td>\n",
       "      <td>11</td>\n",
       "      <td>NaN</td>\n",
       "      <td>NaN</td>\n",
       "      <td>NaN</td>\n",
       "      <td>NaN</td>\n",
       "      <td>NaN</td>\n",
       "      <td>NaN</td>\n",
       "    </tr>\n",
       "    <tr>\n",
       "      <th>287</th>\n",
       "      <td>2019</td>\n",
       "      <td>12</td>\n",
       "      <td>NaN</td>\n",
       "      <td>NaN</td>\n",
       "      <td>NaN</td>\n",
       "      <td>NaN</td>\n",
       "      <td>NaN</td>\n",
       "      <td>NaN</td>\n",
       "    </tr>\n",
       "  </tbody>\n",
       "</table>\n",
       "<p>288 rows × 8 columns</p>\n",
       "</div>"
      ],
      "text/plain": [
       "     CCl4ottoyr  CCl4ottomon  CCl4ottoNHm  CCl4ottoNHsd  CCl4ottoSHm  \\\n",
       "0          1996            1          NaN           NaN          NaN   \n",
       "1          1996            2          NaN           NaN          NaN   \n",
       "2          1996            3          NaN           NaN          NaN   \n",
       "3          1996            4      105.318         0.197      102.969   \n",
       "4          1996            5      105.032         0.193      102.754   \n",
       "..          ...          ...          ...           ...          ...   \n",
       "283        2019            8          NaN           NaN          NaN   \n",
       "284        2019            9          NaN           NaN          NaN   \n",
       "285        2019           10          NaN           NaN          NaN   \n",
       "286        2019           11          NaN           NaN          NaN   \n",
       "287        2019           12          NaN           NaN          NaN   \n",
       "\n",
       "     CCl4ottoSHsd  CCl4ottoGLm  CCl4ottoGLsd  \n",
       "0             NaN          NaN           NaN  \n",
       "1             NaN          NaN           NaN  \n",
       "2             NaN          NaN           NaN  \n",
       "3           0.238      104.144         0.155  \n",
       "4           0.287      103.893         0.174  \n",
       "..            ...          ...           ...  \n",
       "283           NaN          NaN           NaN  \n",
       "284           NaN          NaN           NaN  \n",
       "285           NaN          NaN           NaN  \n",
       "286           NaN          NaN           NaN  \n",
       "287           NaN          NaN           NaN  \n",
       "\n",
       "[288 rows x 8 columns]"
      ]
     },
     "execution_count": 417,
     "metadata": {},
     "output_type": "execute_result"
    }
   ],
   "source": [
    "Df"
   ]
  },
  {
   "cell_type": "code",
   "execution_count": 418,
   "id": "53a90e29-5ffa-4238-8169-053744f93bd5",
   "metadata": {},
   "outputs": [],
   "source": [
    "CCldf = Df.rename(columns={\n",
    "    'CCl4ottoyr': 'year',\n",
    "    'CCl4ottomon': 'month',\n",
    "    'CCl4ottoNHm': 'NH_mean',\n",
    "    'CCl4ottoNHsd': 'NH_sd',\n",
    "    'CCl4ottoSHm': 'SH_mean',\n",
    "    'CCl4ottoSHsd': 'SH_sd',\n",
    "    'CCl4ottoGLm': 'GL_mean',\n",
    "    'CCl4ottoGLsd': 'GL_sd'\n",
    "})\n"
   ]
  },
  {
   "cell_type": "code",
   "execution_count": 420,
   "id": "45c78989-e1de-4eb9-ac47-707738643c50",
   "metadata": {},
   "outputs": [],
   "source": [
    "CCldf['time'] = CCldf['year'] + (CCldf['month'] - 1)/12"
   ]
  },
  {
   "cell_type": "code",
   "execution_count": 424,
   "id": "da0fac4b-34fc-4cc5-b438-1c46d000e3f7",
   "metadata": {},
   "outputs": [
    {
     "data": {
      "image/png": "[encoded data removed]",
      "text/plain": [
       "<Figure size 640x480 with 1 Axes>"
      ]
     },
     "metadata": {},
     "output_type": "display_data"
    }
   ],
   "source": [
    "plt.errorbar(CCldf['time'], CCldf['GL_mean'], yerr =CCldf['GL_sd'])\n",
    "plt.xlabel('Year')\n",
    "plt.ylabel('CCl4 Concentration')\n",
    "plt.title('Global CCl4')\n",
    "plt.show()"
   ]
  },
  {
   "cell_type": "code",
   "execution_count": 428,
   "id": "ac906752-2339-496e-8263-8f44f16cfdee",
   "metadata": {},
   "outputs": [],
   "source": [
    "def y(x, m, b):\n",
    "    return m*x + b"
   ]
  },
  {
   "cell_type": "code",
   "execution_count": 436,
   "id": "dc3e76b8-f331-4d68-8e1b-fe1ac4df2277",
   "metadata": {},
   "outputs": [],
   "source": [
    "df_clean = CCldf.dropna().copy()"
   ]
  },
  {
   "cell_type": "code",
   "execution_count": 438,
   "id": "49bfaafd-a57d-4ba4-97f3-04c7a63339c8",
   "metadata": {},
   "outputs": [],
   "source": [
    "p_0 = [-1, 105]\n",
    "params1, cov1 = fit.curve_fit(y, df_clean['time'], df_clean['GL_mean'], p_0)"
   ]
  },
  {
   "cell_type": "code",
   "execution_count": 440,
   "id": "582f9e0d-252c-424b-ba0d-b7481ff4b072",
   "metadata": {},
   "outputs": [
    {
     "data": {
      "text/plain": [
       "array([-1.14604322e+00,  2.39240437e+03])"
      ]
     },
     "execution_count": 440,
     "metadata": {},
     "output_type": "execute_result"
    }
   ],
   "source": [
    "params1"
   ]
  },
  {
   "cell_type": "code",
   "execution_count": 442,
   "id": "1423959a-0225-48cd-a017-957ef92a7809",
   "metadata": {},
   "outputs": [],
   "source": [
    "m = params1[0]\n",
    "b = params1[1]\n",
    "y_est1 = y(df_clean['time'], m, b)"
   ]
  },
  {
   "cell_type": "code",
   "execution_count": 446,
   "id": "99385bca-014f-455c-8df4-58aec8e293c7",
   "metadata": {},
   "outputs": [
    {
     "data": {
      "image/png": "[encoded data removed]",
      "text/plain": [
       "<Figure size 640x480 with 1 Axes>"
      ]
     },
     "metadata": {},
     "output_type": "display_data"
    }
   ],
   "source": [
    "plt.figure()\n",
    "plt.plot(df_clean['time'], y_est1, color = 'r') \n",
    "plt.scatter(df_clean['time'], df_clean['GL_mean'])\n",
    "plt.show()"
   ]
  },
  {
   "cell_type": "code",
   "execution_count": 450,
   "id": "45ba1001-e042-4747-80a4-3f98e25c5403",
   "metadata": {},
   "outputs": [],
   "source": [
    "y_expected = y(df_clean['time'], m, b)\n"
   ]
  },
  {
   "cell_type": "code",
   "execution_count": 463,
   "id": "7b2aee09-9921-47db-aa10-6d5c0ca74e6e",
   "metadata": {},
   "outputs": [
    {
     "data": {
      "text/plain": [
       "1280.6870662227498"
      ]
     },
     "execution_count": 463,
     "metadata": {},
     "output_type": "execute_result"
    }
   ],
   "source": [
    "chi = sum((df_clean['GL_mean'] - y_expected)**2/(df_clean['GL_sd']**2))\n",
    "chi"
   ]
  },
  {
   "cell_type": "code",
   "execution_count": 461,
   "id": "52324538-8603-45b5-aa9e-0dd3a295ec8d",
   "metadata": {},
   "outputs": [],
   "source": [
    "err01 = np.sqrt(cov1[0,0])\n",
    "err02 = np.sqrt(cov1[1,1])\n",
    "parameter1 = params1[0]\n",
    "parameter2 = params1[1]\n"
   ]
  },
  {
   "cell_type": "code",
   "execution_count": 473,
   "id": "78c07fa2-cace-414c-8e9d-332f0424b231",
   "metadata": {},
   "outputs": [
    {
     "name": "stdout",
     "output_type": "stream",
     "text": [
      "parameter 1 = -1.146043218073998 ± 0.0022042444385245645\n",
      "parameter 2 = 2392.4043657760426 ± 4.425872250923912\n",
      "y = -x + 105\n",
      "reduced chi-squared = 1280.6870662227498\n"
     ]
    }
   ],
   "source": [
    "print(f\"parameter 1 = {parameter1} \\u00B1 {err01}\")\n",
    "print(f\"parameter 2 = {parameter2} \\u00B1 {err02}\")\n",
    "print(f\"y = -x + 105\")\n",
    "print(f\"reduced chi-squared = {chi}\")"
   ]
  },
  {
   "cell_type": "markdown",
   "id": "b3ad9f35-ffe5-4d79-9280-5d3428655f56",
   "metadata": {},
   "source": [
    "A linear model does seem appropriate since visually it fits right along our data points."
   ]
  }
 ],
 "metadata": {
  "kernelspec": {
   "display_name": "Python [conda env:base] *",
   "language": "python",
   "name": "conda-base-py"
  },
  "language_info": {
   "codemirror_mode": {
    "name": "ipython",
    "version": 3
   },
   "file_extension": ".py",
   "mimetype": "text/x-python",
   "name": "python",
   "nbconvert_exporter": "python",
   "pygments_lexer": "ipython3",
   "version": "3.12.7"
  }
 },
 "nbformat": 4,
 "nbformat_minor": 5
}
