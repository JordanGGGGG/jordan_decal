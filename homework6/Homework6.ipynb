{
 "cells": [
  {
   "cell_type": "code",
   "execution_count": 38,
   "id": "1a165709-db3c-4217-a69a-aa3db3c5ff25",
   "metadata": {},
   "outputs": [],
   "source": [
    "import numpy as np"
   ]
  },
  {
   "cell_type": "code",
   "execution_count": 40,
   "id": "e93b2395-cb03-4dae-a6d3-c1f39d5829d4",
   "metadata": {},
   "outputs": [
    {
     "name": "stdout",
     "output_type": "stream",
     "text": [
      "2\n",
      "3\n",
      "5\n",
      "4\n",
      "6\n",
      "8\n"
     ]
    },
    {
     "data": {
      "text/plain": [
       "'The result here was that I printed each element of each list. Therefore I can use this set up to access each element of each list in an array.'"
      ]
     },
     "execution_count": 40,
     "metadata": {},
     "output_type": "execute_result"
    }
   ],
   "source": [
    "test = np.array([[2, 3, 5], [4, 6, 8]])\n",
    "#for i in test: #test what is printed when calling i in an np array\n",
    "    #print(i)\n",
    "\n",
    "'''The result of this code was that I printed each list, therefore the i in an array refers to the lists. If I want to access an individual element, \n",
    "I will need to try something else'''\n",
    "\n",
    "for list in test: #this list variable that is already defined in python should access each list\n",
    "    for i in list: #I can now use i to refer to my elements in each list\n",
    "        print(i)\n",
    "\n",
    "'''The result here was that I printed each element of each list. Therefore I can use this set up to access each element of each list in an array.'''"
   ]
  },
  {
   "cell_type": "code",
   "execution_count": 42,
   "id": "8d89e118-331c-462e-b7a2-b19cf224d066",
   "metadata": {},
   "outputs": [
    {
     "name": "stdout",
     "output_type": "stream",
     "text": [
      "[[ 2  3  5]\n",
      " [11 13 17]\n",
      " [ 7 10 13]]\n"
     ]
    },
    {
     "data": {
      "text/plain": [
       "\"I ended up not using the same set up that I found earlier because if I did that I would have iterated over each \\nelement and therefore printed each list up to 3 times. I just kept it to for list in arr and then if any(...) because \\nthat would only check if any of my elements were prime. Using the earlier notation would've resulted in [2, 3, 5] and [11, 13, 17] being printed\\nthree times (they have three prime elements) and [7, 10, 13] would've been printed twice (two primes and one non-prime, 10).\""
      ]
     },
     "execution_count": 42,
     "metadata": {},
     "output_type": "execute_result"
    }
   ],
   "source": [
    "'''1 Prime Clusters'''\n",
    "arr = np.array([[2, 3, 5], [4, 6, 8], [11, 13, 17], [7, 10, 13]])\n",
    "\n",
    "def is_prime(n): #define a function beforehand to check if a number is prime. I will use this function within my next function.\n",
    "    if n < 2:\n",
    "        return False\n",
    "    for j in range(2, n):\n",
    "        if n % j == 0: #checks whether any number before our number n is divisible into n and gives a remainder of 0. This will mean n isn't prime\n",
    "            return False\n",
    "    else:\n",
    "        return True\n",
    "\n",
    "#print(is_prime(18)) #Test 1\n",
    "'''result is false, which is correct'''\n",
    "#print(is_prime(11)) #Test2\n",
    "'''returns True, also correct.'''\n",
    "\n",
    "def containsPrimes(arr):\n",
    "    new_arr = [] #initialize list to hold our prime lists. I am using a list variable instead of an array because then I can use python functions like .append()\n",
    "    for list in arr:\n",
    "            if any(is_prime(i) for i in list): #use the any() function to only do the result once for each list instead of multiple times\n",
    "                new_arr.append(list)\n",
    "    return np.array(new_arr) #turns my list into an array at the end\n",
    "\n",
    "print(containsPrimes(arr))\n",
    "\n",
    "'''I ended up not using the same set up that I found earlier because if I did that I would have iterated over each \n",
    "element and therefore printed each list up to 3 times. I just kept it to for list in arr and then if any(...) because \n",
    "that would only check if any of my elements were prime. Using the earlier notation would've resulted in [2, 3, 5] and [11, 13, 17] being printed\n",
    "three times (they have three prime elements) and [7, 10, 13] would've been printed twice (two primes and one non-prime, 10).'''"
   ]
  },
  {
   "cell_type": "code",
   "execution_count": 44,
   "id": "e5b186ec-1ec0-43fc-a31f-11bdbb85cbaf",
   "metadata": {},
   "outputs": [
    {
     "name": "stdout",
     "output_type": "stream",
     "text": [
      "[[0. 0. 0. 0. 0. 0. 0. 0.]\n",
      " [0. 0. 0. 0. 0. 0. 0. 0.]\n",
      " [0. 0. 0. 0. 0. 0. 0. 0.]\n",
      " [0. 0. 0. 0. 0. 0. 0. 0.]\n",
      " [0. 0. 0. 0. 0. 0. 0. 0.]\n",
      " [0. 0. 0. 0. 0. 0. 0. 0.]\n",
      " [0. 0. 0. 0. 0. 0. 0. 0.]\n",
      " [0. 0. 0. 0. 0. 0. 0. 0.]]\n"
     ]
    }
   ],
   "source": [
    "'''2 Let's Play Checkers!'''\n",
    "#2.1\n",
    "def checkerboard():\n",
    "    return np.zeros((8,8)) #np.zeros creates an array of zeros. Passing a tuple in this function will specify the height and width of the array.\n",
    "print(checkerboard())"
   ]
  },
  {
   "cell_type": "code",
   "execution_count": 46,
   "id": "75532d8f-2b89-4733-a468-8b3efce35355",
   "metadata": {},
   "outputs": [
    {
     "name": "stdout",
     "output_type": "stream",
     "text": [
      "[[0. 0. 0. 0. 0. 0. 0. 0.]\n",
      " [0. 1. 0. 1. 0. 1. 0. 1.]\n",
      " [0. 0. 0. 0. 0. 0. 0. 0.]\n",
      " [0. 1. 0. 1. 0. 1. 0. 1.]\n",
      " [0. 0. 0. 0. 0. 0. 0. 0.]\n",
      " [0. 1. 0. 1. 0. 1. 0. 1.]\n",
      " [0. 0. 0. 0. 0. 0. 0. 0.]\n",
      " [0. 1. 0. 1. 0. 1. 0. 1.]]\n"
     ]
    },
    {
     "data": {
      "text/plain": [
       "\"Since Python is zero indexed, this won't give me the same result as the homework file wants, but in the end I will get the same result after the next \\nstep. In fact I believe the homework file result for problem 2.2 should give this result since technically these are the odd rows.\""
      ]
     },
     "execution_count": 46,
     "metadata": {},
     "output_type": "execute_result"
    }
   ],
   "source": [
    "#2.2\n",
    "'''def checkerboard():\n",
    "    array = np.zeros((8,8))\n",
    "    for row_n, list in array: #assigns a variable equal to each list in the array, which is also equal to the array's row # and iterates over it\n",
    "        for col_n, i in list: #assigns a variable to each element in each list of the array, which is equal to the array's column # and iterates\n",
    "            if (col_n + row_n) % 2 == 1: #checks if the sum of the row and column indices (a.k.a. the overall array index) is odd since modulus by 2 == 1 means there is a remainder which would mean an even number\n",
    "                array[row_n, col_n] = 1 #set the element we found was odd equal to one\n",
    "    return array\n",
    "                \n",
    "print(checkerboard())\n",
    "\n",
    "This code resulted in a ValueError on the 4th line (for row_n....) because I am putting in three values, row_n, list, and array. To fix this , I will use\n",
    "enumerate() function. This function will return a tuple with the index of an element and the value of said element. i. e. arr = ['apple', 'banana', 'cherry']\n",
    "for index, item in enumerate(arr): print({index}, {item})\n",
    "result:\n",
    "{0} {'apple'}\n",
    "{1} {'banana'}\n",
    "{2} {'cherry'}\n",
    "\n",
    "Also this would be wrong because I only want to modify the odd rows, not the overall array element. So I must put an if statement in each for statement.'''\n",
    "\n",
    "def checkerboard():\n",
    "    array = np.zeros((8,8))\n",
    "    for row_n, list in enumerate(array): #assigns a variable equal to each list in the array, which is also equal to the array's row # and iterates over it\n",
    "        if row_n % 2 == 1: #check if the row is odd\n",
    "            for col_n, i in enumerate(list): #assigns a variable to each element in each list of the array, which is equal to the array's column # and iterates\n",
    "                if col_n % 2 == 1: #alternate elements\n",
    "                    array[row_n, col_n] = 1\n",
    "    return array\n",
    "                \n",
    "print(checkerboard())\n",
    "\n",
    "'''Since Python is zero indexed, this won't give me the same result as the homework file wants, but in the end I will get the same result after the next \n",
    "step. In fact I believe the homework file result for problem 2.2 should give this result since technically these are the odd rows.'''"
   ]
  },
  {
   "cell_type": "code",
   "execution_count": 48,
   "id": "b8d78a71-3560-410c-8431-d7a8d5e76a9c",
   "metadata": {},
   "outputs": [
    {
     "name": "stdout",
     "output_type": "stream",
     "text": [
      "{0} {'apple'}\n",
      "{1} {'banana'}\n",
      "{2} {'cherry'}\n"
     ]
    }
   ],
   "source": [
    "'''Enumerate Function'''\n",
    "arr = ['apple', 'banana', 'cherry']\n",
    "for index, item in enumerate(arr):\n",
    "    print({index}, {item})\n"
   ]
  },
  {
   "cell_type": "code",
   "execution_count": 50,
   "id": "8a2e6eed-b7f5-455d-b2df-830a9cf88bbf",
   "metadata": {},
   "outputs": [
    {
     "name": "stdout",
     "output_type": "stream",
     "text": [
      "[[1. 0. 1. 0. 1. 0. 1. 0.]\n",
      " [0. 1. 0. 1. 0. 1. 0. 1.]\n",
      " [1. 0. 1. 0. 1. 0. 1. 0.]\n",
      " [0. 1. 0. 1. 0. 1. 0. 1.]\n",
      " [1. 0. 1. 0. 1. 0. 1. 0.]\n",
      " [0. 1. 0. 1. 0. 1. 0. 1.]\n",
      " [1. 0. 1. 0. 1. 0. 1. 0.]\n",
      " [0. 1. 0. 1. 0. 1. 0. 1.]]\n"
     ]
    }
   ],
   "source": [
    "#2.3\n",
    "def checkerboard():\n",
    "    array = np.zeros((8,8))\n",
    "    for row_n, list in enumerate(array):\n",
    "        if row_n % 2 == 1: \n",
    "            for col_n, i in enumerate(list): \n",
    "                if col_n % 2 == 1: \n",
    "                    array[row_n, col_n] = 1\n",
    "        elif row_n % 2 == 0: #Create a secondary condition for the even rows\n",
    "            for col_n, i in enumerate(list):\n",
    "                if col_n % 2 == 0: #flip this to even elements to make the pattern right\n",
    "                    array[row_n, col_n] = 1\n",
    "    return array\n",
    "print(checkerboard())"
   ]
  },
  {
   "cell_type": "code",
   "execution_count": 52,
   "id": "8e554d63-c1cf-44e0-904f-6746b833e68c",
   "metadata": {},
   "outputs": [
    {
     "name": "stdout",
     "output_type": "stream",
     "text": [
      "[[0. 1. 0. 1. 0. 1. 0. 1.]\n",
      " [1. 0. 1. 0. 1. 0. 1. 0.]\n",
      " [0. 1. 0. 1. 0. 1. 0. 1.]\n",
      " [1. 0. 1. 0. 1. 0. 1. 0.]\n",
      " [0. 1. 0. 1. 0. 1. 0. 1.]\n",
      " [1. 0. 1. 0. 1. 0. 1. 0.]\n",
      " [0. 1. 0. 1. 0. 1. 0. 1.]\n",
      " [1. 0. 1. 0. 1. 0. 1. 0.]]\n"
     ]
    }
   ],
   "source": [
    "#2.4\n",
    "def reverse_checkerboard():\n",
    "    array = np.zeros((8,8))\n",
    "    for row_n, list in enumerate(array):\n",
    "        if row_n % 2 == 0: #Flip which index is even and odd to flip the order of the rows\n",
    "            for col_n, i in enumerate(list):\n",
    "                if col_n % 2 == 1:\n",
    "                    array[row_n, col_n] = 1\n",
    "        elif row_n % 2 == 1:\n",
    "            for col_n, i in enumerate(list):\n",
    "                if col_n % 2 == 0:\n",
    "                    array[row_n, col_n] = 1\n",
    "    return array\n",
    "\n",
    "print(reverse_checkerboard())"
   ]
  },
  {
   "cell_type": "code",
   "execution_count": 54,
   "id": "b9a7508c-6c95-4afa-b30a-e5b2ccf8ad78",
   "metadata": {},
   "outputs": [
    {
     "name": "stdout",
     "output_type": "stream",
     "text": [
      "['g   a   l   a   x   y' 'c   l   u   s   t   e   r   s']\n"
     ]
    }
   ],
   "source": [
    "'''3 The Expanding Universe'''\n",
    "\n",
    "'''Here I will use the .join() function. In order to use it the syntax is \"[insert character here]\".join(data type). This will insert whatever\n",
    "character you put in between the quotes in between each element that you are iterating over. For example, if you put a string in the function\n",
    "it will insert the character in between each letter. Putting a list of strings inside will insert the character in between each string because\n",
    "in that case you are iterating over elements of the list (strings) whereas in the first case you are iterating over elements of the string (letters).'''\n",
    "string1 = 'galaxy'\n",
    "string2 = 'clusters'\n",
    "def expansion(string1, string2, x):\n",
    "    universe = [] #initialize universe list\n",
    "    desired_num_spaces = \" \" * x #define variable to specify number of spaces\n",
    "    universe.append(desired_num_spaces.join(string1)) #insert the spaces times the number of spaces desired into the words of the list\n",
    "    universe.append(desired_num_spaces.join(string2))\n",
    "    return np.array(universe)\n",
    "\n",
    "print(expansion(string1, string2, 3))"
   ]
  },
  {
   "cell_type": "code",
   "execution_count": 56,
   "id": "898465f0-a689-4ed1-8bcc-83e9b1ca1c47",
   "metadata": {},
   "outputs": [
    {
     "name": "stdout",
     "output_type": "stream",
     "text": [
      "[[1889 1906 1846 1622 1541]\n",
      " [ 606 1647 1738  596  613]\n",
      " [1138  547  573 1442  724]\n",
      " [ 611 1933 1863 1346 1777]\n",
      " [ 920 1108 1732 1592  951]]\n",
      "[1622  606  573  573  573]\n"
     ]
    }
   ],
   "source": [
    "'''4 Second-Dimmest Star'''\n",
    "np.random.seed(123)\n",
    "stars = np.random.randint(500, 2000, (5, 5))\n",
    "print(stars)\n",
    "\n",
    "def secondDimmest(stars):\n",
    "    second_smallest_vals = [] #initialize list for values\n",
    "    smallest = np.inf \n",
    "    second_smallest = np.inf  #initialize smallest and second smallest at infinity so that every number is smaller than it\n",
    "    for row_n, list in enumerate(stars): #perform the function on each row of my array\n",
    "        for col_n, i in enumerate(list): #iterate over each element in each list\n",
    "            if i < smallest:  #if a number in a list is smaller than the smallest we have found\n",
    "                second_smallest = smallest #replace second smallest with the smallest\n",
    "                smallest = i #then assign smallest to that number\n",
    "            elif smallest < i < second_smallest: #if our number is smaller than second smallest but bigger than smallest\n",
    "                second_smallest = i #assign that number to the second smallest\n",
    "        second_smallest_vals.append(second_smallest) #add the second smallest value in that list to the empty list\n",
    "    return np.array(second_smallest_vals) #convert list into array\n",
    "\n",
    "print(secondDimmest(stars))"
   ]
  },
  {
   "cell_type": "code",
   "execution_count": null,
   "id": "58b100f6-9670-4923-961d-a32dd43f329e",
   "metadata": {},
   "outputs": [],
   "source": []
  }
 ],
 "metadata": {
  "kernelspec": {
   "display_name": "Python [conda env:base] *",
   "language": "python",
   "name": "conda-base-py"
  },
  "language_info": {
   "codemirror_mode": {
    "name": "ipython",
    "version": 3
   },
   "file_extension": ".py",
   "mimetype": "text/x-python",
   "name": "python",
   "nbconvert_exporter": "python",
   "pygments_lexer": "ipython3",
   "version": "3.12.7"
  }
 },
 "nbformat": 4,
 "nbformat_minor": 5
}
